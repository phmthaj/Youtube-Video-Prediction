{
 "cells": [
  {
   "cell_type": "code",
   "execution_count": 1,
   "id": "a29cf202-8d8a-4838-8b47-448e88fa75f8",
   "metadata": {},
   "outputs": [
    {
     "name": "stdout",
     "output_type": "stream",
     "text": [
      "\n",
      "Độ chính xác (Accuracy): 0.9335\n",
      "F1-score (Weighted): 0.9332\n",
      "Precision (Weighted): 0.9333\n",
      "Recall (Weighted): 0.9335\n",
      "                       precision    recall  f1-score   support\n",
      "\n",
      "          Not popular       0.89      0.92      0.91      4655\n",
      "          Controversy       0.99      1.00      0.99      4675\n",
      "               Decent       0.90      0.86      0.88      4585\n",
      "Overwhelming positive       0.95      0.95      0.95      4565\n",
      "\n",
      "             accuracy                           0.93     18480\n",
      "            macro avg       0.93      0.93      0.93     18480\n",
      "         weighted avg       0.93      0.93      0.93     18480\n",
      "\n",
      "Phân bố lớp dự đoán: [4778 4723 4393 4586]\n"
     ]
    },
    {
     "data": {
      "text/plain": [
       "['xgboost_model.pkl']"
      ]
     },
     "execution_count": 1,
     "metadata": {},
     "output_type": "execute_result"
    }
   ],
   "source": [
    "import pandas as pd\n",
    "import numpy as np\n",
    "from sklearn.model_selection import train_test_split\n",
    "from sklearn.preprocessing import StandardScaler\n",
    "from sklearn.metrics import accuracy_score, f1_score, precision_score, recall_score, classification_report\n",
    "from imblearn.over_sampling import SMOTE\n",
    "import xgboost as xgb\n",
    "import joblib\n",
    "\n",
    "df = pd.read_pickle('data_with_embeddings_fix.pkl')\n",
    "\n",
    "X_text_embeddings = np.stack(df['text_embeddings'].values)  # Vector 384 chiều\n",
    "X_category_id = df['category_id'].values.reshape(-1, 1)\n",
    "X_days_to_trending = df['days_to_trending'].values.reshape(-1, 1)\n",
    "X_video_durations = df['video_durations'].values.reshape(-1, 1)  # Feature mới\n",
    "y = df['Y'].values\n",
    "\n",
    "scaler_category = StandardScaler()\n",
    "scaler_days = StandardScaler()\n",
    "scaler_duration = StandardScaler()\n",
    "scaler_text = StandardScaler()\n",
    "\n",
    "X_category_id = scaler_category.fit_transform(X_category_id)\n",
    "X_days_to_trending = scaler_days.fit_transform(X_days_to_trending)\n",
    "X_video_durations = scaler_duration.fit_transform(X_video_durations)\n",
    "X_text_embeddings = scaler_text.fit_transform(X_text_embeddings)\n",
    "\n",
    "joblib.dump(scaler_category, 'scaler_category_xgb.pkl')\n",
    "joblib.dump(scaler_days, 'scaler_days_xgb.pkl')\n",
    "joblib.dump(scaler_duration, 'scaler_duration_xgb.pkl')\n",
    "joblib.dump(scaler_text, 'scaler_text_xgb.pkl')\n",
    "\n",
    "X_combined = np.hstack([X_category_id, X_days_to_trending, X_video_durations, X_text_embeddings])\n",
    "\n",
    "smote = SMOTE(random_state=42)\n",
    "X_resampled, y_resampled = smote.fit_resample(X_combined, y)\n",
    "\n",
    "X_train, X_test, y_train, y_test = train_test_split(\n",
    "    X_resampled, y_resampled, test_size=0.2, random_state=42\n",
    ")\n",
    "\n",
    "xgb_model = xgb.XGBClassifier(\n",
    "    objective='multi:softmax',\n",
    "    num_class=4,\n",
    "    max_depth=6,\n",
    "    learning_rate=0.1,\n",
    "    n_estimators=100,\n",
    "    random_state=42,\n",
    "    n_jobs=-1\n",
    ")\n",
    "\n",
    "xgb_model.fit(X_train, y_train)\n",
    "\n",
    "y_pred = xgb_model.predict(X_test)\n",
    "\n",
    "accuracy = accuracy_score(y_test, y_pred)\n",
    "f1 = f1_score(y_test, y_pred, average='weighted')\n",
    "precision = precision_score(y_test, y_pred, average='weighted')\n",
    "recall = recall_score(y_test, y_pred, average='weighted')\n",
    "\n",
    "print(f\"\\nĐộ chính xác (Accuracy): {accuracy:.4f}\")\n",
    "print(f\"F1-score (Weighted): {f1:.4f}\")\n",
    "print(f\"Precision (Weighted): {precision:.4f}\")\n",
    "print(f\"Recall (Weighted): {recall:.4f}\")\n",
    "\n",
    "labels = {0: \"Not popular\", 1: \"Controversy\", 2: \"Decent\", 3: \"Overwhelming positive\"}\n",
    "print(classification_report(y_test, y_pred, target_names=[labels[i] for i in range(4)]))\n",
    "\n",
    "print(f\"Phân bố lớp dự đoán: {np.bincount(y_pred)}\")\n",
    "\n",
    "# Lưu mô hình\n",
    "joblib.dump(xgb_model, 'xgboost_model.pkl')"
   ]
  }
 ],
 "metadata": {
  "kernelspec": {
   "display_name": "Python 3 (ipykernel)",
   "language": "python",
   "name": "python3"
  },
  "language_info": {
   "codemirror_mode": {
    "name": "ipython",
    "version": 3
   },
   "file_extension": ".py",
   "mimetype": "text/x-python",
   "name": "python",
   "nbconvert_exporter": "python",
   "pygments_lexer": "ipython3",
   "version": "3.11.0"
  }
 },
 "nbformat": 4,
 "nbformat_minor": 5
}
